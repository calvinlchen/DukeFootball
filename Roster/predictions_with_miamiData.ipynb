{
 "cells": [
  {
   "cell_type": "code",
   "execution_count": 3,
   "metadata": {},
   "outputs": [],
   "source": [
    "# importing  all the functions defined in roster_functions.py\n",
    "from roster_functions_GPU import *"
   ]
  },
  {
   "cell_type": "code",
   "execution_count": 6,
   "metadata": {},
   "outputs": [
    {
     "name": "stdout",
     "output_type": "stream",
     "text": [
      "     Year  NewCoach  numHome  overallPct  overallPct_prevYear  \\\n",
      "0  2023.0       0.0      7.0    0.615385             0.692308   \n",
      "1  2022.0       1.0      6.0    0.692308             0.250000   \n",
      "2  2021.0       0.0      7.0    0.250000             0.181818   \n",
      "3  2020.0       0.0      5.0    0.181818             0.416667   \n",
      "4  2019.0       0.0      6.0    0.416667             0.615385   \n",
      "\n",
      "   pointDiffAvg_prevYear  bowlGame_prevYear  wonBowl_prevYear  \\\n",
      "0              11.769231                1.0               1.0   \n",
      "1             -16.916667                0.0               0.0   \n",
      "2             -13.272727                0.0               0.0   \n",
      "3              -3.916667                0.0               0.0   \n",
      "4               2.000000                1.0               1.0   \n",
      "\n",
      "   SOR_rank_prevYear  FPI_rank  SOS_rank  GC_rank_prevYear  \\\n",
      "0               41.0      29.0      49.0              36.0   \n",
      "1              109.0      45.0      89.0             111.0   \n",
      "2              110.0     113.0      77.0             101.0   \n",
      "3               69.0      99.0      44.0              65.0   \n",
      "4               35.0      64.0      48.0              34.0   \n",
      "\n",
      "   AVGWP_rank_prevYear  AP_ranked_prevYear School      Coach  \n",
      "0                 23.0                 0.0   Duke       Elko  \n",
      "1                115.0                 0.0   Duke       Elko  \n",
      "2                104.0                 0.0   Duke  Cutcliffe  \n",
      "3                 89.0                 0.0   Duke  Cutcliffe  \n",
      "4                 48.0                 0.0   Duke  Cutcliffe  \n"
     ]
    }
   ],
   "source": [
    "include_columns = ['Year', 'School', 'Coach', 'NewCoach', 'numHome', 'overallPct',\n",
    "                   'overallPct_prevYear', 'pointDiffAvg_prevYear', 'bowlGame_prevYear',\n",
    "                   'wonBowl_prevYear', 'SOR_rank_prevYear', 'FPI_rank', 'SOS_rank',\n",
    "                   'GC_rank_prevYear', 'AVGWP_rank_prevYear', 'AP_ranked_prevYear']\n",
    "\n",
    "data = load_data_includeCols('data/Football Roster and Performance Data - v4.csv', include_columns)\n",
    "\n",
    "refined_data = meanImpute(data)\n",
    "print(refined_data.head())"
   ]
  }
 ],
 "metadata": {
  "kernelspec": {
   "display_name": ".venv",
   "language": "python",
   "name": "python3"
  },
  "language_info": {
   "codemirror_mode": {
    "name": "ipython",
    "version": 3
   },
   "file_extension": ".py",
   "mimetype": "text/x-python",
   "name": "python",
   "nbconvert_exporter": "python",
   "pygments_lexer": "ipython3",
   "version": "3.11.5"
  }
 },
 "nbformat": 4,
 "nbformat_minor": 2
}
