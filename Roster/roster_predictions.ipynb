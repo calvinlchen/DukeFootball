{
 "cells": [
  {
   "cell_type": "code",
   "execution_count": 1,
   "metadata": {},
   "outputs": [],
   "source": [
    "# importing  all the functions defined in roster_functions.py\n",
    "from roster_functions import *"
   ]
  },
  {
   "cell_type": "code",
   "execution_count": 2,
   "metadata": {},
   "outputs": [
    {
     "name": "stdout",
     "output_type": "stream",
     "text": [
      "     Year  overallPct  FPI_rank  SOS_rank  avgHeight   avgWeight  \\\n",
      "0  2023.0    0.615385      29.0      49.0   6.141892  227.477477   \n",
      "1  2022.0    0.692308      45.0      89.0   6.135886  227.063063   \n",
      "2  2021.0    0.250000     113.0      77.0   6.176991  225.946903   \n",
      "3  2020.0    0.181818      99.0      44.0   6.206271  231.435644   \n",
      "4  2019.0    0.416667      64.0      48.0   6.172068  229.814815   \n",
      "\n",
      "   numPositions  numC  numCB  numDB  ...  numPlayers  class_natlRank  \\\n",
      "0          15.0   0.0   10.0    0.0  ...       111.0            60.0   \n",
      "1          13.0   0.0    0.0   20.0  ...       111.0            57.0   \n",
      "2          15.0   5.0   10.0    0.0  ...       113.0            55.0   \n",
      "3          15.0   5.0    6.0    0.0  ...       101.0            57.0   \n",
      "4          15.0   3.0    7.0    0.0  ...       108.0            48.0   \n",
      "\n",
      "   class_confRank  class_score  numGrad  numRedshirtFreshmen  \\\n",
      "0            10.0        85.07     24.0                 12.0   \n",
      "1            10.0        85.12     17.0                 11.0   \n",
      "2            12.0        83.69     18.0                  4.0   \n",
      "3            10.0        83.75      0.0                 15.0   \n",
      "4             9.0        84.80      0.0                 13.0   \n",
      "\n",
      "   numRedshirtSophomores  numRedshirtJuniors  numRedshirtSeniors  \\\n",
      "0                    6.0                 3.0                 3.0   \n",
      "1                    5.0                14.0                 3.0   \n",
      "2                   16.0                10.0                 5.0   \n",
      "3                   13.0                12.0                 4.0   \n",
      "4                   13.0                17.0                 6.0   \n",
      "\n",
      "   numRedshirting  \n",
      "0             0.0  \n",
      "1             0.0  \n",
      "2             0.0  \n",
      "3             0.0  \n",
      "4             0.0  \n",
      "\n",
      "[5 rows x 41 columns]\n"
     ]
    }
   ],
   "source": [
    "include_columns = ['Year','overallPct','FPI_rank','SOS_rank','avgHeight','avgWeight','numPositions',\n",
    "                   'numC','numCB','numDB','numDE','numDL','numDT','numK','numLB','numLS','numOG','numOL',\n",
    "                   'numOT','numP','numQB','numRB','numS','numTE','numWR','numOffense','numDefense',\n",
    "                   'numFreshmen','numSophomores','numJuniors','numSeniors','numPlayers','class_natlRank',\n",
    "                   'class_confRank','class_score','numGrad','numRedshirtFreshmen','numRedshirtSophomores',\n",
    "                   'numRedshirtJuniors','numRedshirtSeniors','numRedshirting']\n",
    "\n",
    "data = load_data_includeCols('data/Duke Roster and Performance Data - v2.csv', include_columns)\n",
    "\n",
    "refined_data = meanImpute(data)\n",
    "print(refined_data.head())"
   ]
  },
  {
   "cell_type": "code",
   "execution_count": 3,
   "metadata": {},
   "outputs": [],
   "source": [
    "target = 'overallPct'\n",
    "\n",
    "X, y = defineXY(refined_data, target)\n",
    "\n",
    "seed = 43\n",
    "\n",
    "X_train, X_test, y_train, y_test = splitTrainingTesting(X, y, 0.15, seed)\n",
    "X_train_PCA, X_test_PCA = performPCA_separateSets(X_train, X_test, 3, seed)"
   ]
  },
  {
   "cell_type": "code",
   "execution_count": 4,
   "metadata": {},
   "outputs": [
    {
     "name": "stdout",
     "output_type": "stream",
     "text": [
      "Fitting 16 folds for each of 27000 candidates, totalling 432000 fits\n"
     ]
    }
   ],
   "source": [
    "params = hypertune_model(X_train_PCA, y_train)\n",
    "# params = {'bootstrap': True, 'max_features': 'sqrt'}\n",
    "\n",
    "model = createRF(X_train_PCA, X_test_PCA, y_train, y_test, params, seed)\n",
    "\n",
    "allFeatureStats(model, refined_data, X, X_train_PCA, y_train, target)"
   ]
  }
 ],
 "metadata": {
  "kernelspec": {
   "display_name": "Python 3",
   "language": "python",
   "name": "python3"
  },
  "language_info": {
   "codemirror_mode": {
    "name": "ipython",
    "version": 3
   },
   "file_extension": ".py",
   "mimetype": "text/x-python",
   "name": "python",
   "nbconvert_exporter": "python",
   "pygments_lexer": "ipython3",
   "version": "3.11.9"
  }
 },
 "nbformat": 4,
 "nbformat_minor": 2
}
